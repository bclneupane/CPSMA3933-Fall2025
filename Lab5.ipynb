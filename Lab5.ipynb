{
  "cells": [
    {
      "cell_type": "markdown",
      "metadata": {
        "id": "X-fMojY2SX6a"
      },
      "source": [
        "#Bishal Sharma 282665\n",
        "\n",
        "Analytic Solution\n",
        "\n",
        "Given,\n",
        "f(n) = 7f(n-1)-10f(n-2)\n",
        "assuming,\n",
        "\n",
        "r^2-7r+10=0\n",
        "\n",
        "here we get ,\n",
        "r= 5,\n",
        "r= 2,\n",
        "general soln\n",
        "\n",
        "f(n)=A(5^n)+B(2^n)\n",
        "\n",
        "using given conditions,\n",
        "f(0)= A+B=1\n",
        "f(1)=5A+2B=3\n",
        "\n",
        "we get,\n",
        "A=1/3, B=2/3\n",
        "\n",
        "therefore, analytic equation is,\n",
        "\n",
        "f(n) = (1/3)*5^n+(2/3)*2^n"
      ]
    },
    {
      "cell_type": "code",
      "execution_count": 1,
      "metadata": {
        "colab": {
          "base_uri": "https://localhost:8080/"
        },
        "id": "TTVlyIBOPnMf",
        "outputId": "52166896-8a4f-4eb9-f88c-605d632f1b0b"
      },
      "outputs": [
        {
          "name": "stdout",
          "output_type": "stream",
          "text": [
            "[1, 3, 11, 47, 219, 1063, 5251, 26127, 130379, 651383]\n"
          ]
        }
      ],
      "source": [
        "# Dynamic Programming (iterative)\n",
        "def f_dp(n):\n",
        "    if n == 0:\n",
        "        return 1\n",
        "    elif n == 1:\n",
        "        return 3\n",
        "    f = [0]*(n+1)\n",
        "    f[0] = 1\n",
        "    f[1] = 3\n",
        "    for i in range(2, n+1):\n",
        "        f[i] = 7*f[i-1] - 10*f[i-2]\n",
        "    return f[n]\n",
        "\n",
        "# Test first 10 entries\n",
        "print([f_dp(i) for i in range(10)])\n"
      ]
    },
    {
      "cell_type": "code",
      "execution_count": 2,
      "metadata": {
        "colab": {
          "base_uri": "https://localhost:8080/"
        },
        "id": "cwhoiW5TPwq7",
        "outputId": "42f24eb9-73d0-413a-d2df-d066dc0cb711"
      },
      "outputs": [
        {
          "name": "stdout",
          "output_type": "stream",
          "text": [
            "[1, 3, 11, 47, 219, 1063, 5251, 26127, 130379, 651383]\n"
          ]
        }
      ],
      "source": [
        "# Memoization (recursive)\n",
        "memo = {}\n",
        "def f_memo(n):\n",
        "    if n in memo:\n",
        "        return memo[n]\n",
        "    if n == 0:\n",
        "        memo[0] = 1\n",
        "    elif n == 1:\n",
        "        memo[1] = 3\n",
        "    else:\n",
        "        memo[n] = 7*f_memo(n-1) - 10*f_memo(n-2)\n",
        "    return memo[n]\n",
        "\n",
        "# Test first 10 entries\n",
        "print([f_memo(i) for i in range(10)])\n"
      ]
    },
    {
      "cell_type": "code",
      "execution_count": 12,
      "metadata": {
        "colab": {
          "base_uri": "https://localhost:8080/"
        },
        "id": "jlPOu2N9P4Pv",
        "outputId": "71123d51-9beb-4088-ffe6-d6a43bad85a1"
      },
      "outputs": [
        {
          "name": "stdout",
          "output_type": "stream",
          "text": [
            "Analytic: 0.0002987384796142578\n",
            "Analytic (int): 8.487701416015625e-05\n",
            "Dynamic Programming: 0.0003790855407714844\n",
            "Memoization: 0.0012166500091552734\n",
            "\n",
            "First 10 via DP:    [1, 3, 11, 47, 219, 1063, 5251, 26127, 130379, 651383]\n",
            "First 10 via memo:  [1, 3, 11, 47, 219, 1063, 5251, 26127, 130379, 651383]\n",
            "\n",
            "All results equal: True\n",
            "Digits of f(1000): 699\n"
          ]
        }
      ],
      "source": [
        "import time\n",
        "from decimal import Decimal, getcontext\n",
        "import sys\n",
        "\n",
        "sys.setrecursionlimit(5000)\n",
        "\n",
        "n = 1000\n",
        "getcontext().prec = 5000\n",
        "\n",
        "start = time.time()\n",
        "result_analytic = (Decimal(1)/Decimal(3))*(Decimal(5)**n) + (Decimal(2)/Decimal(3))*(Decimal(2)**n)\n",
        "analytic_time = time.time() - start\n",
        "print(\"Analytic:\", analytic_time)\n",
        "\n",
        "start = time.time()\n",
        "result_int = (5**n + 2*(2**n)) // 3\n",
        "analytic_int_time = time.time() - start\n",
        "print(\"Analytic (int):\", analytic_int_time)\n",
        "\n",
        "def f_dp(k):\n",
        "    if k == 0:\n",
        "        return 1\n",
        "    if k == 1:\n",
        "        return 3\n",
        "    a, b = 1, 3\n",
        "    for _ in range(2, k+1):\n",
        "        a, b = b, 7*b - 10*a\n",
        "    return b\n",
        "\n",
        "start = time.time()\n",
        "result_dp = f_dp(n)\n",
        "dp_time = time.time() - start\n",
        "print(\"Dynamic Programming:\", dp_time)\n",
        "\n",
        "memo = {0:1, 1:3}\n",
        "def f_memo(k):\n",
        "    if k in memo:\n",
        "        return memo[k]\n",
        "    memo[k] = 7*f_memo(k-1) - 10*f_memo(k-2)\n",
        "    return memo[k]\n",
        "\n",
        "start = time.time()\n",
        "result_memo = f_memo(n)\n",
        "memo_time = time.time() - start\n",
        "print(\"Memoization:\", memo_time)\n",
        "\n",
        "print(\"\\nFirst 10 via DP:   \", [f_dp(i) for i in range(10)])\n",
        "print(\"First 10 via memo: \", [f_memo(i) for i in range(10)])\n",
        "\n",
        "ok_all = (int(result_analytic) == result_int == result_dp == result_memo)\n",
        "print(\"\\nAll results equal:\", ok_all)\n",
        "print(\"Digits of f(1000):\", len(str(result_dp)))\n"
      ]
    }
  ],
  "metadata": {
    "colab": {
      "provenance": [],
      "toc_visible": true
    },
    "kernelspec": {
      "display_name": "Python 3",
      "name": "python3"
    },
    "language_info": {
      "name": "python"
    }
  },
  "nbformat": 4,
  "nbformat_minor": 0
}
