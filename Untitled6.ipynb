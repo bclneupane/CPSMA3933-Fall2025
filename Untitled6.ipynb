{
 "cells": [
  {
   "cell_type": "code",
   "execution_count": null,
   "id": "0b45918f-7900-4dbe-a5b3-6cc80c62cd2e",
   "metadata": {},
   "outputs": [],
   "source": [
    "Name: Bishal Sharma \n",
    "Id: 282665"
   ]
  },
  {
   "cell_type": "markdown",
   "id": "2f784c4d-78f3-440c-b33b-9c41c84de651",
   "metadata": {},
   "source": [
    "1) Trailing zeros in n! using factor-of-5 count\n"
   ]
  },
  {
   "cell_type": "code",
   "execution_count": 7,
   "id": "56a00027-ccd2-4471-ab5a-65d5edb299ce",
   "metadata": {},
   "outputs": [
    {
     "name": "stdout",
     "output_type": "stream",
     "text": [
      "249\n"
     ]
    }
   ],
   "source": [
    "def trailing_zeros_factorial(n: int) -> int:\n",
    "    count = 0\n",
    "    p = 5\n",
    "    while p <= n:\n",
    "        count += n // p\n",
    "        p *= 5\n",
    "    return count\n",
    "\n",
    "print(trailing_zeros_factorial(1000)) \n"
   ]
  },
  {
   "cell_type": "markdown",
   "id": "3beac45c-8634-437d-86c0-b105431b8e01",
   "metadata": {},
   "source": [
    "2) Big Numbers — Sum of Digits\n",
    "\n",
    "Approach: Convert the number to a string, iterate over characters, convert each to `int`, then sum.\n"
   ]
  },
  {
   "cell_type": "code",
   "execution_count": 9,
   "id": "3063c6ac-77b7-4cfa-8723-21f38b2ba8ba",
   "metadata": {},
   "outputs": [
    {
     "name": "stdout",
     "output_type": "stream",
     "text": [
      "38\n"
     ]
    }
   ],
   "source": [
    "def sum_of_digits(x) -> int:\n",
    "    s = str(x)\n",
    "    return sum(int(ch) for ch in s if ch.isdigit())\n",
    "\n",
    "x = 8675309\n",
    "print(sum_of_digits(x)) \n"
   ]
  },
  {
   "cell_type": "markdown",
   "id": "2583ca34-1252-4a4c-a2cb-c460c582dbeb",
   "metadata": {},
   "source": [
    "3) Handshakes — Two Soccer Teams (11 vs 11)\n",
    "\n",
    "Here, Two teams of 11 shake hands across teams, and then the winning team also shakes among themselves.\n"
   ]
  },
  {
   "cell_type": "code",
   "execution_count": 11,
   "id": "4b4f347c-f075-4ea3-a971-ff4fed3d39b8",
   "metadata": {},
   "outputs": [
    {
     "name": "stdout",
     "output_type": "stream",
     "text": [
      "176\n"
     ]
    }
   ],
   "source": [
    "from math import comb\n",
    "\n",
    "team_size = 11\n",
    "cross_team = team_size * team_size\n",
    "within_winner = comb(team_size, 2)\n",
    "total_handshakes = cross_team + within_winner\n",
    "print(total_handshakes)  # Expected: 176\n"
   ]
  },
  {
   "cell_type": "markdown",
   "id": "32b70fda-7fc6-4acf-bb6a-420672e2ce87",
   "metadata": {},
   "source": [
    "4) Harder Handshakes — Mr. Smith’s Dinner Party\n",
    "\n",
    "Here, Five couples (10 people total). No one shakes hands with themselves or their spouse.  \n",
    "Everyone gives a different answer for “How many hands did mr smith shake?”\n",
    "\n",
    "The possible handshake counts are the integers 0 through 8 (nine distinct values) for the nine people other than Mr. Smith. A classic pairing argument shows:\n",
    "- The person with 8 handshakes shook everyone except their spouse → their spouse must have 0.\n",
    "- Similarly, 7 pairs with 1, 6 pairs with 2, 5 pairs with 3.\n",
    "- That leaves the middle count 4 to pair with 4 (Mr. and Mrs. Smith).\n",
    "\n",
    "Answer: Mr. Smith shook 4 hands.\n"
   ]
  },
  {
   "cell_type": "code",
   "execution_count": 13,
   "id": "fb06d5b3-da7d-45ef-a58e-6927a75270ba",
   "metadata": {},
   "outputs": [
    {
     "name": "stdout",
     "output_type": "stream",
     "text": [
      "Symmetric pairs (sum to 8): [(0, 8), (1, 7), (2, 6), (3, 5), (4, 4)]\n",
      "Conclusion: Mr. Smith's count is 4.\n"
     ]
    }
   ],
   "source": [
    "counts = list(range(9)) \n",
    "pairs = [(c, 8 - c) for c in range(5)]  # (0,8),(1,7),(2,6),(3,5),(4,4)\n",
    "print(\"Symmetric pairs (sum to 8):\", pairs)\n",
    "print(\"Conclusion: Mr. Smith's count is 4.\")\n"
   ]
  }
 ],
 "metadata": {
  "kernelspec": {
   "display_name": "Python [conda env:base] *",
   "language": "python",
   "name": "conda-base-py"
  },
  "language_info": {
   "codemirror_mode": {
    "name": "ipython",
    "version": 3
   },
   "file_extension": ".py",
   "mimetype": "text/x-python",
   "name": "python",
   "nbconvert_exporter": "python",
   "pygments_lexer": "ipython3",
   "version": "3.12.7"
  }
 },
 "nbformat": 4,
 "nbformat_minor": 5
}
