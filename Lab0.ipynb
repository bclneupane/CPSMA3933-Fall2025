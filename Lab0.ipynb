{
 "cells": [
  {
   "cell_type": "code",
   "execution_count": 23,
   "id": "4942cea9-012d-4bad-b7c0-92b07c200b94",
   "metadata": {},
   "outputs": [],
   "source": [
    " CPSMA 3933 (Operations Research) - Computer Lab #0\n",
    "Name : Bishal Sharma\n",
    "Duedate : Tuesday, September 2nd, 2025\n"
   ]
  },
  {
   "cell_type": "code",
   "execution_count": 25,
   "id": "5388884b-47d9-4079-91d1-1c1fbc24e437",
   "metadata": {},
   "outputs": [
    {
     "name": "stdout",
     "output_type": "stream",
     "text": [
      "Hello, CPSMA 3933!\n",
      "print() can show multiple values: 10 20 30\n",
      "It works with numbers, text, or both together.\n"
     ]
    }
   ],
   "source": [
    "print(\"Hello, CPSMA 3933!\")\n",
    "print(\"print() can show multiple values:\", 10, 20, 30)\n",
    "print(\"It works with numbers, text, or both together.\")"
   ]
  },
  {
   "cell_type": "markdown",
   "id": "4c2faceb-4e4a-449f-9ad3-4af5af683508",
   "metadata": {},
   "source": [
    " My Favorite Function: `print()`\n",
    "\n",
    "My favorite Python function is `print()`.  \n",
    "I like it because it lets me display messages and results directly on the screen.  \n",
    "It is one of the most important functions for beginners, since it shows the program’s output in a simple way.  \n",
    "I also like using `print()` for debugging, testing values, and making programs interactive.\n"
   ]
  },
  {
   "cell_type": "code",
   "execution_count": 28,
   "id": "4f9df8df-9d32-4df9-8195-132bf8eaee15",
   "metadata": {},
   "outputs": [
    {
     "name": "stdout",
     "output_type": "stream",
     "text": [
      "Hello, Bibek!\n",
      "Welcome to CPSMA 3933.\n",
      "Hello, Raymec!\n",
      "Welcome to CPSMA 3933.\n",
      "Hello, Tiger!\n",
      "Welcome to CPSMA 3933.\n"
     ]
    }
   ],
   "source": [
    "def greet(name):\n",
    "    print(\"Hello,\", name + \"!\")\n",
    "    print(\"Welcome to CPSMA 3933.\")\n",
    "\n",
    "greet(\"Bibek\")\n",
    "greet(\"Raymec\")\n",
    "greet(\"Tiger\")\n"
   ]
  },
  {
   "cell_type": "markdown",
   "id": "29a75adf-05d7-4ae0-a283-574a9ac9bbaa",
   "metadata": {},
   "source": [
    " A Custom Function Using `print()`\n",
    "\n",
    "Here is a function called `greet()`.  \n",
    "It accepts a name as input and uses `print()` to display a friendly greeting.  \n",
    "Printing messages from inside functions is useful for giving feedback to the user.\n"
   ]
  },
  {
   "cell_type": "code",
   "execution_count": 31,
   "id": "cc98d587-9165-40ca-abdd-9ca9afefaf6a",
   "metadata": {},
   "outputs": [
    {
     "name": "stdout",
     "output_type": "stream",
     "text": [
      "My List: [22, 38, 23, 19, 29, 13, 47, 34, 20, 23, 12, 43]\n",
      "Sum: 323\n",
      "Minimum: 12\n",
      "Maximum: 47\n",
      "Average: 26.916666666666668\n"
     ]
    }
   ],
   "source": [
    "import random\n",
    "\n",
    "my_list = [random.randint(1, 50) for _ in range(12)]\n",
    "print(\"My List:\", my_list)\n",
    "print(\"Sum:\", sum(my_list))\n",
    "print(\"Minimum:\", min(my_list))\n",
    "print(\"Maximum:\", max(my_list))\n",
    "print(\"Average:\", sum(my_list)/len(my_list))\n"
   ]
  },
  {
   "cell_type": "markdown",
   "id": "1b527cc4-404e-4c31-a856-5570c1795fc4",
   "metadata": {},
   "source": [
    " Saving and Submitting\n",
    "\n",
    "I saved this notebook as `Lab0.ipynb`.  \n",
    "Then I uploaded it to my GitHub repository created for this class.  \n",
    "Finally, I copied the repository link and submitted it on Blackboard.\n"
   ]
  }
 ],
 "metadata": {
  "kernelspec": {
   "display_name": "Python [conda env:base] *",
   "language": "python",
   "name": "conda-base-py"
  },
  "language_info": {
   "codemirror_mode": {
    "name": "ipython",
    "version": 3
   },
   "file_extension": ".py",
   "mimetype": "text/x-python",
   "name": "python",
   "nbconvert_exporter": "python",
   "pygments_lexer": "ipython3",
   "version": "3.12.7"
  }
 },
 "nbformat": 4,
 "nbformat_minor": 5
}
