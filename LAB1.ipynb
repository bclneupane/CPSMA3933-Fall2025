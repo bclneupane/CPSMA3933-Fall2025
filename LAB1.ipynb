{
 "cells": [
  {
   "cell_type": "markdown",
   "id": "9aae5aea-b63b-46b6-bef3-fe2ce76a7e71",
   "metadata": {},
   "source": [
    "The U.S. federal income tax system is progressive, which means that different portions of income are taxed at different rates. The function uses the 2023 tax brackets to calculate the total tax due for a given income. Each condition checks the income range and applies the correct formula. For example, an income of $50,000 is partially taxed at lower rates and partially at higher rates, producing the correct total."
   ]
  },
  {
   "cell_type": "code",
   "execution_count": 1,
   "id": "71e254d5-a56e-41fd-b7c7-5ae0da309d06",
   "metadata": {},
   "outputs": [
    {
     "name": "stdout",
     "output_type": "stream",
     "text": [
      "6307.5\n"
     ]
    }
   ],
   "source": [
    "def calculate_tax(income):\n",
    "    if income <= 11000:\n",
    "        return 0.10 * income\n",
    "    elif income <= 44725:\n",
    "        return 1100 + 0.12 * (income - 11000)\n",
    "    elif income <= 95375:\n",
    "        return 5147 + 0.22 * (income - 44725)\n",
    "    elif income <= 182100:\n",
    "        return 16290 + 0.24 * (income - 95375)\n",
    "    elif income <= 231250:\n",
    "        return 37104 + 0.32 * (income - 182100)\n",
    "    elif income <= 578125:\n",
    "        return 52832 + 0.35 * (income - 231250)\n",
    "    else:\n",
    "        return 174238.25 + 0.37 * (income - 578125)\n",
    "\n",
    "print(calculate_tax(50000))\n",
    "\n"
   ]
  },
  {
   "cell_type": "markdown",
   "id": "04f1f8c9-1b52-4908-8c8f-c4e049edd8b3",
   "metadata": {},
   "source": [
    "The goal is to show that the derivative of ln(x) at x = 1 equals 1. This is verified numerically using the difference quotient formula:\n",
    "\n",
    "(ln(1+h)-ln(1))/h\n",
    "\n",
    "As the values of h get smaller, the expression approaches 1. A list of different h values is used to demonstrate the convergence. Using Sympy, the symbolic limit is computed to confirm the numerical results. Sympy also verifies the derivative of ln(x) at x = 1, which is 1."
   ]
  },
  {
   "cell_type": "code",
   "execution_count": 3,
   "id": "5fa728cf-10ef-4102-ba46-88bc6f7d75e2",
   "metadata": {},
   "outputs": [
    {
     "name": "stdout",
     "output_type": "stream",
     "text": [
      "[0.6931471805599453, 0.9531017980432493, 0.9995003330834232, 0.9990013313365289, 0.9999500033329731, 1.000000082690371]\n"
     ]
    }
   ],
   "source": [
    "import math\n",
    "\n",
    "h = [1, 0.1, 0.001, 0.002, 0.0001, 0.0000000001]\n",
    "results = [(math.log(1 + val) - math.log(1)) / val for val in h]\n",
    "print(results)\n"
   ]
  },
  {
   "cell_type": "markdown",
   "id": "6ad6280c-1565-4872-a5d9-6b76679e8565",
   "metadata": {},
   "source": [
    "The formula for the sum of cubes states:\n",
    "n\n",
    "∑ i^3= ((n(n+1))/2)^2\n",
    "𝑖=0\n",
    "\n",
    "The program verifies this identity for all n from 0 to 1000. It calculates both the left-hand side (sum of cubes) and the right-hand side (closed-form formula) and checks equality.The final output returns True if the identity holds for every tested value of n."
   ]
  },
  {
   "cell_type": "code",
   "execution_count": 5,
   "id": "6640f087-75b7-4b22-974a-75e676c1c89a",
   "metadata": {},
   "outputs": [
    {
     "name": "stdout",
     "output_type": "stream",
     "text": [
      "1\n",
      "1\n"
     ]
    }
   ],
   "source": [
    "import sympy as sp\n",
    "\n",
    "h = sp.symbols('h')\n",
    "expr = (sp.log(1+h) - sp.log(1)) / h\n",
    "limit_result = sp.limit(expr, h, 0)\n",
    "\n",
    "x = sp.symbols('x')\n",
    "derivative_result = sp.diff(sp.log(x), x).subs(x, 1)\n",
    "\n",
    "print(limit_result)\n",
    "print(derivative_result)\n"
   ]
  },
  {
   "cell_type": "code",
   "execution_count": 7,
   "id": "2e6bfdaf-4ef6-48d7-b355-1a563066f31a",
   "metadata": {},
   "outputs": [
    {
     "name": "stdout",
     "output_type": "stream",
     "text": [
      "True\n"
     ]
    }
   ],
   "source": [
    "def verify_summation(n):\n",
    "    lhs = sum(i**3 for i in range(n+1))\n",
    "    rhs = ((n*(n+1))//2)**2\n",
    "    return lhs == rhs\n",
    "\n",
    "result = all(verify_summation(n) for n in range(1001))\n",
    "print(result)\n"
   ]
  }
 ],
 "metadata": {
  "kernelspec": {
   "display_name": "Python [conda env:base] *",
   "language": "python",
   "name": "conda-base-py"
  },
  "language_info": {
   "codemirror_mode": {
    "name": "ipython",
    "version": 3
   },
   "file_extension": ".py",
   "mimetype": "text/x-python",
   "name": "python",
   "nbconvert_exporter": "python",
   "pygments_lexer": "ipython3",
   "version": "3.12.7"
  }
 },
 "nbformat": 4,
 "nbformat_minor": 5
}
